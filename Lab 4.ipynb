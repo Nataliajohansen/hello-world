{
 "cells": [
  {
   "cell_type": "code",
   "execution_count": 1,
   "metadata": {},
   "outputs": [
    {
     "name": "stdout",
     "output_type": "stream",
     "text": [
      "Requirement already satisfied: psycopg2 in c:\\programdata\\anaconda3\\lib\\site-packages (2.8.3)\n"
     ]
    }
   ],
   "source": [
    "!pip install psycopg2"
   ]
  },
  {
   "cell_type": "code",
   "execution_count": 3,
   "metadata": {},
   "outputs": [],
   "source": [
    "import pandas\n",
    "import configparser\n",
    "import psycopg2\n"
   ]
  },
  {
   "cell_type": "code",
   "execution_count": null,
   "metadata": {},
   "outputs": [],
   "source": [
    "config = configparser.ConfigParser()\n",
    "config.read('config.ini')\n",
    "\n",
    "host = config['myaws'] ['host']\n",
    "user = config['myaws']['user']\n",
    "pwsd = config['myaws']['pwsd']\n",
    "database = config['myaws']['database']\n",
    "print(user)"
   ]
  },
  {
   "cell_type": "markdown",
   "metadata": {},
   "source": [
    "# Q1"
   ]
  },
  {
   "cell_type": "code",
   "execution_count": 5,
   "metadata": {},
   "outputs": [],
   "source": [
    "conn = psycopg2.connect( \n",
    "                            host = host,\n",
    "                            user = user,\n",
    "                            password = pwsd,\n",
    "                            dbname = database\n",
    ")\n"
   ]
  },
  {
   "cell_type": "code",
   "execution_count": 6,
   "metadata": {},
   "outputs": [],
   "source": [
    "cur= conn.cursor()\n"
   ]
  },
  {
   "cell_type": "code",
   "execution_count": 13,
   "metadata": {},
   "outputs": [],
   "source": [
    "sql_statement = '''\n",
    "                select * from student_gp71\n",
    "                '''"
   ]
  },
  {
   "cell_type": "code",
   "execution_count": 14,
   "metadata": {},
   "outputs": [
    {
     "data": {
      "text/html": [
       "<div>\n",
       "<style scoped>\n",
       "    .dataframe tbody tr th:only-of-type {\n",
       "        vertical-align: middle;\n",
       "    }\n",
       "\n",
       "    .dataframe tbody tr th {\n",
       "        vertical-align: top;\n",
       "    }\n",
       "\n",
       "    .dataframe thead th {\n",
       "        text-align: right;\n",
       "    }\n",
       "</style>\n",
       "<table border=\"1\" class=\"dataframe\">\n",
       "  <thead>\n",
       "    <tr style=\"text-align: right;\">\n",
       "      <th></th>\n",
       "      <th>email</th>\n",
       "      <th>name</th>\n",
       "      <th>major</th>\n",
       "    </tr>\n",
       "  </thead>\n",
       "  <tbody>\n",
       "    <tr>\n",
       "      <th>0</th>\n",
       "      <td>jackie@gmail.jackie.com                       ...</td>\n",
       "      <td>Jackie James                                  ...</td>\n",
       "      <td>Intelligence Analysis\\n                       ...</td>\n",
       "    </tr>\n",
       "    <tr>\n",
       "      <th>1</th>\n",
       "      <td>rogers@gmail.rogers.com                       ...</td>\n",
       "      <td>Rogers Rogers                                 ...</td>\n",
       "      <td>Intelligence Analysis                         ...</td>\n",
       "    </tr>\n",
       "    <tr>\n",
       "      <th>2</th>\n",
       "      <td>steve@gmail.steve.com                         ...</td>\n",
       "      <td>Steve Smith                                   ...</td>\n",
       "      <td>Intelligence Analysis                         ...</td>\n",
       "    </tr>\n",
       "    <tr>\n",
       "      <th>3</th>\n",
       "      <td>robby@gmail.mayy.com                          ...</td>\n",
       "      <td>Robby Mayy                                    ...</td>\n",
       "      <td>Intelligence Analysis\\n                       ...</td>\n",
       "    </tr>\n",
       "    <tr>\n",
       "      <th>4</th>\n",
       "      <td>natalia@gmail                                 ...</td>\n",
       "      <td>Natalia                                       ...</td>\n",
       "      <td>Intelligence Analysis\\n                       ...</td>\n",
       "    </tr>\n",
       "    <tr>\n",
       "      <th>5</th>\n",
       "      <td>linda@gmail.Lin.com                           ...</td>\n",
       "      <td>Linda Lin                                     ...</td>\n",
       "      <td>Intelligence Analysis                         ...</td>\n",
       "    </tr>\n",
       "    <tr>\n",
       "      <th>6</th>\n",
       "      <td>demo_email                                    ...</td>\n",
       "      <td>demo_name                                     ...</td>\n",
       "      <td>GS                                            ...</td>\n",
       "    </tr>\n",
       "  </tbody>\n",
       "</table>\n",
       "</div>"
      ],
      "text/plain": [
       "                                               email  \\\n",
       "0  jackie@gmail.jackie.com                       ...   \n",
       "1  rogers@gmail.rogers.com                       ...   \n",
       "2  steve@gmail.steve.com                         ...   \n",
       "3  robby@gmail.mayy.com                          ...   \n",
       "4  natalia@gmail                                 ...   \n",
       "5  linda@gmail.Lin.com                           ...   \n",
       "6  demo_email                                    ...   \n",
       "\n",
       "                                                name  \\\n",
       "0  Jackie James                                  ...   \n",
       "1  Rogers Rogers                                 ...   \n",
       "2  Steve Smith                                   ...   \n",
       "3  Robby Mayy                                    ...   \n",
       "4  Natalia                                       ...   \n",
       "5  Linda Lin                                     ...   \n",
       "6  demo_name                                     ...   \n",
       "\n",
       "                                               major  \n",
       "0  Intelligence Analysis\\n                       ...  \n",
       "1  Intelligence Analysis                         ...  \n",
       "2  Intelligence Analysis                         ...  \n",
       "3  Intelligence Analysis\\n                       ...  \n",
       "4  Intelligence Analysis\\n                       ...  \n",
       "5  Intelligence Analysis                         ...  \n",
       "6  GS                                            ...  "
      ]
     },
     "execution_count": 14,
     "metadata": {},
     "output_type": "execute_result"
    }
   ],
   "source": [
    "df=pandas.read_sql_query(sql_statement,conn)\n",
    "df[:]\n"
   ]
  },
  {
   "cell_type": "code",
   "execution_count": 17,
   "metadata": {},
   "outputs": [
    {
     "data": {
      "text/html": [
       "<div>\n",
       "<style scoped>\n",
       "    .dataframe tbody tr th:only-of-type {\n",
       "        vertical-align: middle;\n",
       "    }\n",
       "\n",
       "    .dataframe tbody tr th {\n",
       "        vertical-align: top;\n",
       "    }\n",
       "\n",
       "    .dataframe thead th {\n",
       "        text-align: right;\n",
       "    }\n",
       "</style>\n",
       "<table border=\"1\" class=\"dataframe\">\n",
       "  <thead>\n",
       "    <tr style=\"text-align: right;\">\n",
       "      <th></th>\n",
       "      <th>email</th>\n",
       "      <th>name</th>\n",
       "      <th>major</th>\n",
       "    </tr>\n",
       "  </thead>\n",
       "  <tbody>\n",
       "    <tr>\n",
       "      <th>0</th>\n",
       "      <td>jackie@gmail.jackie.com                       ...</td>\n",
       "      <td>Jackie James                                  ...</td>\n",
       "      <td>Intelligence Analysis\\n                       ...</td>\n",
       "    </tr>\n",
       "    <tr>\n",
       "      <th>1</th>\n",
       "      <td>rogers@gmail.rogers.com                       ...</td>\n",
       "      <td>Rogers Rogers                                 ...</td>\n",
       "      <td>Intelligence Analysis                         ...</td>\n",
       "    </tr>\n",
       "    <tr>\n",
       "      <th>2</th>\n",
       "      <td>steve@gmail.steve.com                         ...</td>\n",
       "      <td>Steve Smith                                   ...</td>\n",
       "      <td>Intelligence Analysis                         ...</td>\n",
       "    </tr>\n",
       "    <tr>\n",
       "      <th>3</th>\n",
       "      <td>robby@gmail.mayy.com                          ...</td>\n",
       "      <td>Robby Mayy                                    ...</td>\n",
       "      <td>Intelligence Analysis\\n                       ...</td>\n",
       "    </tr>\n",
       "    <tr>\n",
       "      <th>4</th>\n",
       "      <td>natalia@gmail                                 ...</td>\n",
       "      <td>Natalia                                       ...</td>\n",
       "      <td>Intelligence Analysis\\n                       ...</td>\n",
       "    </tr>\n",
       "    <tr>\n",
       "      <th>5</th>\n",
       "      <td>linda@gmail.Lin.com                           ...</td>\n",
       "      <td>Linda Lin                                     ...</td>\n",
       "      <td>Intelligence Analysis                         ...</td>\n",
       "    </tr>\n",
       "    <tr>\n",
       "      <th>6</th>\n",
       "      <td>demo_email                                    ...</td>\n",
       "      <td>demo_name                                     ...</td>\n",
       "      <td>GS                                            ...</td>\n",
       "    </tr>\n",
       "  </tbody>\n",
       "</table>\n",
       "</div>"
      ],
      "text/plain": [
       "                                               email  \\\n",
       "0  jackie@gmail.jackie.com                       ...   \n",
       "1  rogers@gmail.rogers.com                       ...   \n",
       "2  steve@gmail.steve.com                         ...   \n",
       "3  robby@gmail.mayy.com                          ...   \n",
       "4  natalia@gmail                                 ...   \n",
       "5  linda@gmail.Lin.com                           ...   \n",
       "6  demo_email                                    ...   \n",
       "\n",
       "                                                name  \\\n",
       "0  Jackie James                                  ...   \n",
       "1  Rogers Rogers                                 ...   \n",
       "2  Steve Smith                                   ...   \n",
       "3  Robby Mayy                                    ...   \n",
       "4  Natalia                                       ...   \n",
       "5  Linda Lin                                     ...   \n",
       "6  demo_name                                     ...   \n",
       "\n",
       "                                               major  \n",
       "0  Intelligence Analysis\\n                       ...  \n",
       "1  Intelligence Analysis                         ...  \n",
       "2  Intelligence Analysis                         ...  \n",
       "3  Intelligence Analysis\\n                       ...  \n",
       "4  Intelligence Analysis\\n                       ...  \n",
       "5  Intelligence Analysis                         ...  \n",
       "6  GS                                            ...  "
      ]
     },
     "execution_count": 17,
     "metadata": {},
     "output_type": "execute_result"
    }
   ],
   "source": [
    "df = pandas.read_sql_query(sql_statement,conn)\n",
    "df[:]"
   ]
  },
  {
   "cell_type": "markdown",
   "metadata": {
    "collapsed": true
   },
   "source": [
    "# Q2"
   ]
  },
  {
   "cell_type": "code",
   "execution_count": 23,
   "metadata": {},
   "outputs": [],
   "source": [
    "sql_statement = '''\n",
    "                select \n",
    "                name, count (temail)\n",
    "                from course_gp71\n",
    "                group by name\n",
    "                order by count (temail) desc\n",
    "                \n",
    "                '''"
   ]
  },
  {
   "cell_type": "code",
   "execution_count": 24,
   "metadata": {},
   "outputs": [
    {
     "data": {
      "text/html": [
       "<div>\n",
       "<style scoped>\n",
       "    .dataframe tbody tr th:only-of-type {\n",
       "        vertical-align: middle;\n",
       "    }\n",
       "\n",
       "    .dataframe tbody tr th {\n",
       "        vertical-align: top;\n",
       "    }\n",
       "\n",
       "    .dataframe thead th {\n",
       "        text-align: right;\n",
       "    }\n",
       "</style>\n",
       "<table border=\"1\" class=\"dataframe\">\n",
       "  <thead>\n",
       "    <tr style=\"text-align: right;\">\n",
       "      <th></th>\n",
       "      <th>name</th>\n",
       "      <th>count</th>\n",
       "    </tr>\n",
       "  </thead>\n",
       "  <tbody>\n",
       "    <tr>\n",
       "      <th>0</th>\n",
       "      <td>IA200                                         ...</td>\n",
       "      <td>1</td>\n",
       "    </tr>\n",
       "    <tr>\n",
       "      <th>1</th>\n",
       "      <td>IA999                                         ...</td>\n",
       "      <td>1</td>\n",
       "    </tr>\n",
       "    <tr>\n",
       "      <th>2</th>\n",
       "      <td>IA340                                         ...</td>\n",
       "      <td>1</td>\n",
       "    </tr>\n",
       "    <tr>\n",
       "      <th>3</th>\n",
       "      <td>IA549                                         ...</td>\n",
       "      <td>1</td>\n",
       "    </tr>\n",
       "    <tr>\n",
       "      <th>4</th>\n",
       "      <td>IA313                                         ...</td>\n",
       "      <td>1</td>\n",
       "    </tr>\n",
       "  </tbody>\n",
       "</table>\n",
       "</div>"
      ],
      "text/plain": [
       "                                                name  count\n",
       "0  IA200                                         ...      1\n",
       "1  IA999                                         ...      1\n",
       "2  IA340                                         ...      1\n",
       "3  IA549                                         ...      1\n",
       "4  IA313                                         ...      1"
      ]
     },
     "execution_count": 24,
     "metadata": {},
     "output_type": "execute_result"
    }
   ],
   "source": [
    "df=pandas.read_sql_query(sql_statement,conn)\n",
    "df[:]"
   ]
  },
  {
   "cell_type": "markdown",
   "metadata": {},
   "source": [
    "# Q3"
   ]
  },
  {
   "cell_type": "code",
   "execution_count": 59,
   "metadata": {},
   "outputs": [],
   "source": [
    "sql_statement = '''\n",
    "                select \n",
    "                *\n",
    "                from teacher_gp71\n",
    "                inner join course_gp71\n",
    "                on teacher_gp71.email = course_gp71.temail\n",
    "                '''"
   ]
  },
  {
   "cell_type": "code",
   "execution_count": 60,
   "metadata": {},
   "outputs": [
    {
     "data": {
      "text/html": [
       "<div>\n",
       "<style scoped>\n",
       "    .dataframe tbody tr th:only-of-type {\n",
       "        vertical-align: middle;\n",
       "    }\n",
       "\n",
       "    .dataframe tbody tr th {\n",
       "        vertical-align: top;\n",
       "    }\n",
       "\n",
       "    .dataframe thead th {\n",
       "        text-align: right;\n",
       "    }\n",
       "</style>\n",
       "<table border=\"1\" class=\"dataframe\">\n",
       "  <thead>\n",
       "    <tr style=\"text-align: right;\">\n",
       "      <th></th>\n",
       "      <th>email</th>\n",
       "      <th>name</th>\n",
       "      <th>office</th>\n",
       "      <th>name</th>\n",
       "      <th>room</th>\n",
       "      <th>temail</th>\n",
       "    </tr>\n",
       "  </thead>\n",
       "  <tbody>\n",
       "    <tr>\n",
       "      <th>0</th>\n",
       "      <td>taoqx@jmu.edu                                 ...</td>\n",
       "      <td>Qingjiu Tao                                   ...</td>\n",
       "      <td>ENGEO2107</td>\n",
       "      <td>IA549                                         ...</td>\n",
       "      <td>ENGEO1204</td>\n",
       "      <td>taoqx@jmu.edu                                 ...</td>\n",
       "    </tr>\n",
       "    <tr>\n",
       "      <th>1</th>\n",
       "      <td>marrinsp@jmu.edu                              ...</td>\n",
       "      <td>Stephan Marrin                                ...</td>\n",
       "      <td>ENGEO2104</td>\n",
       "      <td>IA999                                         ...</td>\n",
       "      <td>ISAT450</td>\n",
       "      <td>marrinsp@jmu.edu                              ...</td>\n",
       "    </tr>\n",
       "    <tr>\n",
       "      <th>2</th>\n",
       "      <td>moore8ka@jmu.edu                              ...</td>\n",
       "      <td>Kathleen Moore                                ...</td>\n",
       "      <td>ISAT220</td>\n",
       "      <td>IA200                                         ...</td>\n",
       "      <td>ENGEO1207</td>\n",
       "      <td>moore8ka@jmu.edu                              ...</td>\n",
       "    </tr>\n",
       "    <tr>\n",
       "      <th>3</th>\n",
       "      <td>hendrinx@jmu.edu                              ...</td>\n",
       "      <td>Noel Hendrickson                              ...</td>\n",
       "      <td>ISAT250</td>\n",
       "      <td>IA313                                         ...</td>\n",
       "      <td>ISAT209</td>\n",
       "      <td>hendrinx@jmu.edu                              ...</td>\n",
       "    </tr>\n",
       "    <tr>\n",
       "      <th>4</th>\n",
       "      <td>congruent@gmail.com                           ...</td>\n",
       "      <td>Cindi                                         ...</td>\n",
       "      <td>ISAT666</td>\n",
       "      <td>IA340                                         ...</td>\n",
       "      <td>ENGEO2010</td>\n",
       "      <td>congruent@gmail.com                           ...</td>\n",
       "    </tr>\n",
       "  </tbody>\n",
       "</table>\n",
       "</div>"
      ],
      "text/plain": [
       "                                               email  \\\n",
       "0  taoqx@jmu.edu                                 ...   \n",
       "1  marrinsp@jmu.edu                              ...   \n",
       "2  moore8ka@jmu.edu                              ...   \n",
       "3  hendrinx@jmu.edu                              ...   \n",
       "4  congruent@gmail.com                           ...   \n",
       "\n",
       "                                                name                office  \\\n",
       "0  Qingjiu Tao                                   ...  ENGEO2107              \n",
       "1  Stephan Marrin                                ...  ENGEO2104              \n",
       "2  Kathleen Moore                                ...  ISAT220                \n",
       "3  Noel Hendrickson                              ...  ISAT250                \n",
       "4  Cindi                                         ...  ISAT666                \n",
       "\n",
       "                                                name                  room  \\\n",
       "0  IA549                                         ...  ENGEO1204              \n",
       "1  IA999                                         ...  ISAT450                \n",
       "2  IA200                                         ...  ENGEO1207              \n",
       "3  IA313                                         ...  ISAT209                \n",
       "4  IA340                                         ...  ENGEO2010              \n",
       "\n",
       "                                              temail  \n",
       "0  taoqx@jmu.edu                                 ...  \n",
       "1  marrinsp@jmu.edu                              ...  \n",
       "2  moore8ka@jmu.edu                              ...  \n",
       "3  hendrinx@jmu.edu                              ...  \n",
       "4  congruent@gmail.com                           ...  "
      ]
     },
     "execution_count": 60,
     "metadata": {},
     "output_type": "execute_result"
    }
   ],
   "source": [
    "df = pandas.read_sql_query(sql_statement,conn)\n",
    "df[:]"
   ]
  },
  {
   "cell_type": "markdown",
   "metadata": {},
   "source": [
    "# Q4"
   ]
  },
  {
   "cell_type": "code",
   "execution_count": 64,
   "metadata": {},
   "outputs": [],
   "source": [
    "sql_statement = '''\n",
    "                select \n",
    "                teacher_gp71.name as tname,\n",
    "                count(course_gp71.name) as course_num\n",
    "                from teacher_gp71\n",
    "                inner join course_gp71\n",
    "                on teacher_gp71.email = course_gp71.temail\n",
    "                group by teacher_gp71.name\n",
    "                limit 1\n",
    "                '''"
   ]
  },
  {
   "cell_type": "code",
   "execution_count": 65,
   "metadata": {},
   "outputs": [
    {
     "data": {
      "text/html": [
       "<div>\n",
       "<style scoped>\n",
       "    .dataframe tbody tr th:only-of-type {\n",
       "        vertical-align: middle;\n",
       "    }\n",
       "\n",
       "    .dataframe tbody tr th {\n",
       "        vertical-align: top;\n",
       "    }\n",
       "\n",
       "    .dataframe thead th {\n",
       "        text-align: right;\n",
       "    }\n",
       "</style>\n",
       "<table border=\"1\" class=\"dataframe\">\n",
       "  <thead>\n",
       "    <tr style=\"text-align: right;\">\n",
       "      <th></th>\n",
       "      <th>tname</th>\n",
       "      <th>course_num</th>\n",
       "    </tr>\n",
       "  </thead>\n",
       "  <tbody>\n",
       "    <tr>\n",
       "      <th>0</th>\n",
       "      <td>Noel Hendrickson                              ...</td>\n",
       "      <td>1</td>\n",
       "    </tr>\n",
       "  </tbody>\n",
       "</table>\n",
       "</div>"
      ],
      "text/plain": [
       "                                               tname  course_num\n",
       "0  Noel Hendrickson                              ...           1"
      ]
     },
     "execution_count": 65,
     "metadata": {},
     "output_type": "execute_result"
    }
   ],
   "source": [
    "df = pandas.read_sql_query(sql_statement,conn)\n",
    "df[:]"
   ]
  },
  {
   "cell_type": "markdown",
   "metadata": {},
   "source": [
    "# Q5"
   ]
  },
  {
   "cell_type": "code",
   "execution_count": 37,
   "metadata": {},
   "outputs": [
    {
     "name": "stdout",
     "output_type": "stream",
     "text": [
      "\n",
      "                    insert into teacher_gp71(email,name,office)\n",
      "                    values('new_email1','new_name1','new_office1')\n",
      "                    \n"
     ]
    }
   ],
   "source": [
    "sql_insert_statement = '''\n",
    "                    insert into teacher_gp71(email,name,office)\n",
    "                    values('{}','{}','{}')\n",
    "                    '''.format('new_email1','new_name1','new_office1')\n",
    "print(sql_insert_statement)"
   ]
  },
  {
   "cell_type": "code",
   "execution_count": 48,
   "metadata": {},
   "outputs": [
    {
     "ename": "UniqueViolation",
     "evalue": "duplicate key value violates unique constraint \"teacher_gp71_pkey\"\nDETAIL:  Key (email)=(new_email1                                                                                          ) already exists.\n",
     "output_type": "error",
     "traceback": [
      "\u001b[1;31m---------------------------------------------------------------------------\u001b[0m",
      "\u001b[1;31mUniqueViolation\u001b[0m                           Traceback (most recent call last)",
      "\u001b[1;32m<ipython-input-48-aa1d8444be3c>\u001b[0m in \u001b[0;36m<module>\u001b[1;34m()\u001b[0m\n\u001b[1;32m----> 1\u001b[1;33m \u001b[0mcur\u001b[0m\u001b[1;33m.\u001b[0m\u001b[0mexecute\u001b[0m\u001b[1;33m(\u001b[0m\u001b[0msql_insert_statement\u001b[0m\u001b[1;33m)\u001b[0m\u001b[1;33m\u001b[0m\u001b[0m\n\u001b[0m",
      "\u001b[1;31mUniqueViolation\u001b[0m: duplicate key value violates unique constraint \"teacher_gp71_pkey\"\nDETAIL:  Key (email)=(new_email1                                                                                          ) already exists.\n"
     ]
    }
   ],
   "source": [
    "cur.execute(sql_insert_statement)"
   ]
  },
  {
   "cell_type": "code",
   "execution_count": 35,
   "metadata": {},
   "outputs": [],
   "source": [
    "conn.commit()"
   ]
  },
  {
   "cell_type": "code",
   "execution_count": 36,
   "metadata": {},
   "outputs": [
    {
     "data": {
      "text/html": [
       "<div>\n",
       "<style scoped>\n",
       "    .dataframe tbody tr th:only-of-type {\n",
       "        vertical-align: middle;\n",
       "    }\n",
       "\n",
       "    .dataframe tbody tr th {\n",
       "        vertical-align: top;\n",
       "    }\n",
       "\n",
       "    .dataframe thead th {\n",
       "        text-align: right;\n",
       "    }\n",
       "</style>\n",
       "<table border=\"1\" class=\"dataframe\">\n",
       "  <thead>\n",
       "    <tr style=\"text-align: right;\">\n",
       "      <th></th>\n",
       "      <th>email</th>\n",
       "      <th>name</th>\n",
       "      <th>office</th>\n",
       "    </tr>\n",
       "  </thead>\n",
       "  <tbody>\n",
       "    <tr>\n",
       "      <th>0</th>\n",
       "      <td>marrinsp@jmu.edu                              ...</td>\n",
       "      <td>Stephan Marrin                                ...</td>\n",
       "      <td>ENGEO2104</td>\n",
       "    </tr>\n",
       "    <tr>\n",
       "      <th>1</th>\n",
       "      <td>hendrinx@jmu.edu                              ...</td>\n",
       "      <td>Noel Hendrickson                              ...</td>\n",
       "      <td>ISAT250</td>\n",
       "    </tr>\n",
       "    <tr>\n",
       "      <th>2</th>\n",
       "      <td>taoqx@jmu.edu                                 ...</td>\n",
       "      <td>Qingjiu Tao                                   ...</td>\n",
       "      <td>ENGEO2107</td>\n",
       "    </tr>\n",
       "    <tr>\n",
       "      <th>3</th>\n",
       "      <td>moore8ka@jmu.edu                              ...</td>\n",
       "      <td>Kathleen Moore                                ...</td>\n",
       "      <td>ISAT220</td>\n",
       "    </tr>\n",
       "    <tr>\n",
       "      <th>4</th>\n",
       "      <td>congruent@gmail.com                           ...</td>\n",
       "      <td>Cindi                                         ...</td>\n",
       "      <td>ISAT666</td>\n",
       "    </tr>\n",
       "    <tr>\n",
       "      <th>5</th>\n",
       "      <td>new_email1                                    ...</td>\n",
       "      <td>new_name1                                     ...</td>\n",
       "      <td>new_office1</td>\n",
       "    </tr>\n",
       "    <tr>\n",
       "      <th>6</th>\n",
       "      <td>new_email2                                    ...</td>\n",
       "      <td>new_name2                                     ...</td>\n",
       "      <td>new_office2</td>\n",
       "    </tr>\n",
       "  </tbody>\n",
       "</table>\n",
       "</div>"
      ],
      "text/plain": [
       "                                               email  \\\n",
       "0  marrinsp@jmu.edu                              ...   \n",
       "1  hendrinx@jmu.edu                              ...   \n",
       "2  taoqx@jmu.edu                                 ...   \n",
       "3  moore8ka@jmu.edu                              ...   \n",
       "4  congruent@gmail.com                           ...   \n",
       "5  new_email1                                    ...   \n",
       "6  new_email2                                    ...   \n",
       "\n",
       "                                                name                office  \n",
       "0  Stephan Marrin                                ...  ENGEO2104             \n",
       "1  Noel Hendrickson                              ...  ISAT250               \n",
       "2  Qingjiu Tao                                   ...  ENGEO2107             \n",
       "3  Kathleen Moore                                ...  ISAT220               \n",
       "4  Cindi                                         ...  ISAT666               \n",
       "5  new_name1                                     ...  new_office1           \n",
       "6  new_name2                                     ...  new_office2           "
      ]
     },
     "execution_count": 36,
     "metadata": {},
     "output_type": "execute_result"
    }
   ],
   "source": [
    "df = pandas.read_sql_query('''select * from teacher_gp71''',conn)\n",
    "df[:]"
   ]
  },
  {
   "cell_type": "markdown",
   "metadata": {},
   "source": [
    "# Q6"
   ]
  },
  {
   "cell_type": "code",
   "execution_count": 68,
   "metadata": {},
   "outputs": [],
   "source": [
    "sql_statement = '''\n",
    "                update course_gp71\n",
    "                set temail = 'congruent@gmail.com'\n",
    "                where temail= 'weixx@jmu.edu'\n",
    "                '''"
   ]
  },
  {
   "cell_type": "code",
   "execution_count": 74,
   "metadata": {},
   "outputs": [],
   "source": [
    "conn.commit()"
   ]
  },
  {
   "cell_type": "code",
   "execution_count": 75,
   "metadata": {},
   "outputs": [],
   "source": [
    "cur.execute(sql_statement)"
   ]
  },
  {
   "cell_type": "code",
   "execution_count": 76,
   "metadata": {},
   "outputs": [
    {
     "data": {
      "text/html": [
       "<div>\n",
       "<style scoped>\n",
       "    .dataframe tbody tr th:only-of-type {\n",
       "        vertical-align: middle;\n",
       "    }\n",
       "\n",
       "    .dataframe tbody tr th {\n",
       "        vertical-align: top;\n",
       "    }\n",
       "\n",
       "    .dataframe thead th {\n",
       "        text-align: right;\n",
       "    }\n",
       "</style>\n",
       "<table border=\"1\" class=\"dataframe\">\n",
       "  <thead>\n",
       "    <tr style=\"text-align: right;\">\n",
       "      <th></th>\n",
       "      <th>email</th>\n",
       "      <th>name</th>\n",
       "      <th>office</th>\n",
       "    </tr>\n",
       "  </thead>\n",
       "  <tbody>\n",
       "    <tr>\n",
       "      <th>0</th>\n",
       "      <td>marrinsp@jmu.edu                              ...</td>\n",
       "      <td>Stephan Marrin                                ...</td>\n",
       "      <td>ENGEO2104</td>\n",
       "    </tr>\n",
       "    <tr>\n",
       "      <th>1</th>\n",
       "      <td>hendrinx@jmu.edu                              ...</td>\n",
       "      <td>Noel Hendrickson                              ...</td>\n",
       "      <td>ISAT250</td>\n",
       "    </tr>\n",
       "    <tr>\n",
       "      <th>2</th>\n",
       "      <td>taoqx@jmu.edu                                 ...</td>\n",
       "      <td>Qingjiu Tao                                   ...</td>\n",
       "      <td>ENGEO2107</td>\n",
       "    </tr>\n",
       "    <tr>\n",
       "      <th>3</th>\n",
       "      <td>moore8ka@jmu.edu                              ...</td>\n",
       "      <td>Kathleen Moore                                ...</td>\n",
       "      <td>ISAT220</td>\n",
       "    </tr>\n",
       "    <tr>\n",
       "      <th>4</th>\n",
       "      <td>congruent@gmail.com                           ...</td>\n",
       "      <td>Cindi                                         ...</td>\n",
       "      <td>ISAT666</td>\n",
       "    </tr>\n",
       "    <tr>\n",
       "      <th>5</th>\n",
       "      <td>new_email1                                    ...</td>\n",
       "      <td>new_name1                                     ...</td>\n",
       "      <td>new_office1</td>\n",
       "    </tr>\n",
       "    <tr>\n",
       "      <th>6</th>\n",
       "      <td>new_email2                                    ...</td>\n",
       "      <td>new_name2                                     ...</td>\n",
       "      <td>new_office2</td>\n",
       "    </tr>\n",
       "  </tbody>\n",
       "</table>\n",
       "</div>"
      ],
      "text/plain": [
       "                                               email  \\\n",
       "0  marrinsp@jmu.edu                              ...   \n",
       "1  hendrinx@jmu.edu                              ...   \n",
       "2  taoqx@jmu.edu                                 ...   \n",
       "3  moore8ka@jmu.edu                              ...   \n",
       "4  congruent@gmail.com                           ...   \n",
       "5  new_email1                                    ...   \n",
       "6  new_email2                                    ...   \n",
       "\n",
       "                                                name                office  \n",
       "0  Stephan Marrin                                ...  ENGEO2104             \n",
       "1  Noel Hendrickson                              ...  ISAT250               \n",
       "2  Qingjiu Tao                                   ...  ENGEO2107             \n",
       "3  Kathleen Moore                                ...  ISAT220               \n",
       "4  Cindi                                         ...  ISAT666               \n",
       "5  new_name1                                     ...  new_office1           \n",
       "6  new_name2                                     ...  new_office2           "
      ]
     },
     "execution_count": 76,
     "metadata": {},
     "output_type": "execute_result"
    }
   ],
   "source": [
    "df = pandas.read_sql_query('''select * from teacher_gp71''',conn)\n",
    "df[:]"
   ]
  },
  {
   "cell_type": "code",
   "execution_count": 80,
   "metadata": {},
   "outputs": [],
   "source": [
    "sql_statement = '''\n",
    "                delete from teacher_gp71\n",
    "                where email = 'weixx@jmu.edu'\n",
    "                '''"
   ]
  },
  {
   "cell_type": "code",
   "execution_count": 81,
   "metadata": {},
   "outputs": [],
   "source": [
    "conn.commit()\n"
   ]
  },
  {
   "cell_type": "code",
   "execution_count": 82,
   "metadata": {},
   "outputs": [],
   "source": [
    "cur.execute(sql_statement)"
   ]
  },
  {
   "cell_type": "code",
   "execution_count": 84,
   "metadata": {},
   "outputs": [
    {
     "data": {
      "text/html": [
       "<div>\n",
       "<style scoped>\n",
       "    .dataframe tbody tr th:only-of-type {\n",
       "        vertical-align: middle;\n",
       "    }\n",
       "\n",
       "    .dataframe tbody tr th {\n",
       "        vertical-align: top;\n",
       "    }\n",
       "\n",
       "    .dataframe thead th {\n",
       "        text-align: right;\n",
       "    }\n",
       "</style>\n",
       "<table border=\"1\" class=\"dataframe\">\n",
       "  <thead>\n",
       "    <tr style=\"text-align: right;\">\n",
       "      <th></th>\n",
       "      <th>name</th>\n",
       "      <th>room</th>\n",
       "      <th>temail</th>\n",
       "    </tr>\n",
       "  </thead>\n",
       "  <tbody>\n",
       "    <tr>\n",
       "      <th>0</th>\n",
       "      <td>IA549                                         ...</td>\n",
       "      <td>ENGEO1204</td>\n",
       "      <td>taoqx@jmu.edu                                 ...</td>\n",
       "    </tr>\n",
       "    <tr>\n",
       "      <th>1</th>\n",
       "      <td>IA999                                         ...</td>\n",
       "      <td>ISAT450</td>\n",
       "      <td>marrinsp@jmu.edu                              ...</td>\n",
       "    </tr>\n",
       "    <tr>\n",
       "      <th>2</th>\n",
       "      <td>IA200                                         ...</td>\n",
       "      <td>ENGEO1207</td>\n",
       "      <td>moore8ka@jmu.edu                              ...</td>\n",
       "    </tr>\n",
       "    <tr>\n",
       "      <th>3</th>\n",
       "      <td>IA313                                         ...</td>\n",
       "      <td>ISAT209</td>\n",
       "      <td>hendrinx@jmu.edu                              ...</td>\n",
       "    </tr>\n",
       "    <tr>\n",
       "      <th>4</th>\n",
       "      <td>IA340                                         ...</td>\n",
       "      <td>ENGEO2010</td>\n",
       "      <td>congruent@gmail.com                           ...</td>\n",
       "    </tr>\n",
       "  </tbody>\n",
       "</table>\n",
       "</div>"
      ],
      "text/plain": [
       "                                                name                  room  \\\n",
       "0  IA549                                         ...  ENGEO1204              \n",
       "1  IA999                                         ...  ISAT450                \n",
       "2  IA200                                         ...  ENGEO1207              \n",
       "3  IA313                                         ...  ISAT209                \n",
       "4  IA340                                         ...  ENGEO2010              \n",
       "\n",
       "                                              temail  \n",
       "0  taoqx@jmu.edu                                 ...  \n",
       "1  marrinsp@jmu.edu                              ...  \n",
       "2  moore8ka@jmu.edu                              ...  \n",
       "3  hendrinx@jmu.edu                              ...  \n",
       "4  congruent@gmail.com                           ...  "
      ]
     },
     "execution_count": 84,
     "metadata": {},
     "output_type": "execute_result"
    }
   ],
   "source": [
    "df = pandas.read_sql_query('''select * from course_gp71''',conn)\n",
    "df[:]"
   ]
  }
 ],
 "metadata": {
  "kernelspec": {
   "display_name": "Python 3",
   "language": "python",
   "name": "python3"
  },
  "language_info": {
   "codemirror_mode": {
    "name": "ipython",
    "version": 3
   },
   "file_extension": ".py",
   "mimetype": "text/x-python",
   "name": "python",
   "nbconvert_exporter": "python",
   "pygments_lexer": "ipython3",
   "version": "3.6.5"
  }
 },
 "nbformat": 4,
 "nbformat_minor": 2
}
